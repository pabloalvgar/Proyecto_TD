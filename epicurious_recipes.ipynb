{
 "cells": [
  {
   "cell_type": "code",
   "execution_count": 15,
   "metadata": {},
   "outputs": [],
   "source": [
    "import numpy as np\n",
    "import pandas as pd\n",
    "import re\n",
    "pd.options.mode.chained_assignment = None \n",
    "\n",
    "from lib.helper import diets, ingredients, new_label_array"
   ]
  },
  {
   "cell_type": "markdown",
   "metadata": {},
   "source": [
    "We'll read in the raw scraped .josn data from Hugo Darwood's kaggle dataset as a pandas DataFrame. The goal will be to train a model that can predict whether or not a recipe can adhere to a specific dietary restriction based on its ingredient makeup."
   ]
  },
  {
   "cell_type": "code",
   "execution_count": 16,
   "metadata": {},
   "outputs": [],
   "source": [
    "full_recipes = pd.read_json('db/full_format_recipes.json')"
   ]
  },
  {
   "cell_type": "markdown",
   "metadata": {},
   "source": [
    "We are going to extract the raw ingredients, which will serve as our predictors, and the diet tags from the 'categories' column."
   ]
  },
  {
   "cell_type": "code",
   "execution_count": 17,
   "metadata": {},
   "outputs": [
    {
     "data": {
      "text/html": [
       "<div>\n",
       "<style scoped>\n",
       "    .dataframe tbody tr th:only-of-type {\n",
       "        vertical-align: middle;\n",
       "    }\n",
       "\n",
       "    .dataframe tbody tr th {\n",
       "        vertical-align: top;\n",
       "    }\n",
       "\n",
       "    .dataframe thead th {\n",
       "        text-align: right;\n",
       "    }\n",
       "</style>\n",
       "<table border=\"1\" class=\"dataframe\">\n",
       "  <thead>\n",
       "    <tr style=\"text-align: right;\">\n",
       "      <th></th>\n",
       "      <th>calories</th>\n",
       "      <th>categories</th>\n",
       "      <th>date</th>\n",
       "      <th>desc</th>\n",
       "      <th>directions</th>\n",
       "      <th>fat</th>\n",
       "      <th>ingredients</th>\n",
       "      <th>protein</th>\n",
       "      <th>rating</th>\n",
       "      <th>sodium</th>\n",
       "      <th>title</th>\n",
       "    </tr>\n",
       "  </thead>\n",
       "  <tbody>\n",
       "    <tr>\n",
       "      <th>3431</th>\n",
       "      <td>NaN</td>\n",
       "      <td>[Vegetable, Side, Bake, Quick &amp; Easy, Spice, H...</td>\n",
       "      <td>2004-08-20 04:00:00</td>\n",
       "      <td>None</td>\n",
       "      <td>[Preheat oven to 400°F. Toss all ingredients i...</td>\n",
       "      <td>NaN</td>\n",
       "      <td>[4 pounds butternut squash, peeled, seeded, cu...</td>\n",
       "      <td>NaN</td>\n",
       "      <td>3.750</td>\n",
       "      <td>NaN</td>\n",
       "      <td>Spiced Butternut Squash</td>\n",
       "    </tr>\n",
       "    <tr>\n",
       "      <th>5287</th>\n",
       "      <td>83.0</td>\n",
       "      <td>[Salad, Tomato, Side, Picnic, Vegetarian, Quic...</td>\n",
       "      <td>2009-08-03 04:00:00</td>\n",
       "      <td>None</td>\n",
       "      <td>[Whisk oil and vinegar in medium bowl. Season ...</td>\n",
       "      <td>7.0</td>\n",
       "      <td>[2 tablespoons extra-virgin olive oil, 1 table...</td>\n",
       "      <td>1.0</td>\n",
       "      <td>3.125</td>\n",
       "      <td>11.0</td>\n",
       "      <td>Heirloom Tomato Salad</td>\n",
       "    </tr>\n",
       "    <tr>\n",
       "      <th>2157</th>\n",
       "      <td>180.0</td>\n",
       "      <td>[Herb, Tomato, Vegetable, Appetizer, Vegetaria...</td>\n",
       "      <td>2004-08-20 04:00:00</td>\n",
       "      <td>None</td>\n",
       "      <td>[Quarter medium tomatoes and chop celery. In a...</td>\n",
       "      <td>11.0</td>\n",
       "      <td>[2 pounds medium vine-ripened tomatoes (about ...</td>\n",
       "      <td>5.0</td>\n",
       "      <td>0.000</td>\n",
       "      <td>479.0</td>\n",
       "      <td>\"Virgin Mary\" Aspic</td>\n",
       "    </tr>\n",
       "  </tbody>\n",
       "</table>\n",
       "</div>"
      ],
      "text/plain": [
       "      calories                                         categories  \\\n",
       "3431       NaN  [Vegetable, Side, Bake, Quick & Easy, Spice, H...   \n",
       "5287      83.0  [Salad, Tomato, Side, Picnic, Vegetarian, Quic...   \n",
       "2157     180.0  [Herb, Tomato, Vegetable, Appetizer, Vegetaria...   \n",
       "\n",
       "                    date  desc  \\\n",
       "3431 2004-08-20 04:00:00  None   \n",
       "5287 2009-08-03 04:00:00  None   \n",
       "2157 2004-08-20 04:00:00  None   \n",
       "\n",
       "                                             directions   fat  \\\n",
       "3431  [Preheat oven to 400°F. Toss all ingredients i...   NaN   \n",
       "5287  [Whisk oil and vinegar in medium bowl. Season ...   7.0   \n",
       "2157  [Quarter medium tomatoes and chop celery. In a...  11.0   \n",
       "\n",
       "                                            ingredients  protein  rating  \\\n",
       "3431  [4 pounds butternut squash, peeled, seeded, cu...      NaN   3.750   \n",
       "5287  [2 tablespoons extra-virgin olive oil, 1 table...      1.0   3.125   \n",
       "2157  [2 pounds medium vine-ripened tomatoes (about ...      5.0   0.000   \n",
       "\n",
       "      sodium                     title  \n",
       "3431     NaN  Spiced Butternut Squash   \n",
       "5287    11.0    Heirloom Tomato Salad   \n",
       "2157   479.0      \"Virgin Mary\" Aspic   "
      ]
     },
     "execution_count": 17,
     "metadata": {},
     "output_type": "execute_result"
    }
   ],
   "source": [
    "full_recipes.sample(3)"
   ]
  },
  {
   "cell_type": "markdown",
   "metadata": {},
   "source": [
    "There are a few duplicate entries and missing entries, most likely since the data was scraped in batches.  We'll drop these."
   ]
  },
  {
   "cell_type": "code",
   "execution_count": 18,
   "metadata": {},
   "outputs": [
    {
     "data": {
      "text/plain": [
       "2354"
      ]
     },
     "execution_count": 18,
     "metadata": {},
     "output_type": "execute_result"
    }
   ],
   "source": [
    "full_recipes.duplicated('title', keep='first').sum()"
   ]
  },
  {
   "cell_type": "code",
   "execution_count": 19,
   "metadata": {},
   "outputs": [],
   "source": [
    "full_recipes.drop_duplicates('title', keep='first', inplace=True)"
   ]
  },
  {
   "cell_type": "code",
   "execution_count": 20,
   "metadata": {},
   "outputs": [],
   "source": [
    "full_recipes.dropna(axis=0, inplace=True)"
   ]
  },
  {
   "cell_type": "code",
   "execution_count": 29,
   "metadata": {},
   "outputs": [],
   "source": [
    "recipes = full_recipes[['title', 'categories', 'desc']]"
   ]
  },
  {
   "cell_type": "markdown",
   "metadata": {},
   "source": [
    "Now we will start to clean the category tags in preparation of vectorizing them for the model.  The first transformation will be to make all letters lowercase.  The second will be to remove hypens and other unnecessary punctuations."
   ]
  },
  {
   "cell_type": "code",
   "execution_count": 30,
   "metadata": {
    "scrolled": true
   },
   "outputs": [],
   "source": [
    "recipes['categories'] = recipes['categories'].apply(lambda x: [i.lower() for i in x])"
   ]
  },
  {
   "cell_type": "code",
   "execution_count": 31,
   "metadata": {},
   "outputs": [],
   "source": [
    "recipes['categories'] = recipes['categories'].apply(lambda x: re.sub(r\"[\\'\\[\\]]|\\bname\\b\", '', str(x)))"
   ]
  },
  {
   "cell_type": "code",
   "execution_count": 32,
   "metadata": {},
   "outputs": [],
   "source": [
    "recipes['categories'] = recipes['categories'].apply(lambda x: re.sub(\"[^\\w]\", \" \", x).split())"
   ]
  },
  {
   "cell_type": "markdown",
   "metadata": {},
   "source": [
    "Now we are going to create new columns that extract the ingredient tags and the diet tags as defined by the recipe authors.  The diet tag will be our target labels and the ingredient tags will serve as our predictors along with the recipe title and descriptions.  "
   ]
  },
  {
   "cell_type": "code",
   "execution_count": 34,
   "metadata": {},
   "outputs": [],
   "source": [
    "recipes['ingredients'] = recipes['categories'].apply(lambda x: new_label_array(x, ingredients))"
   ]
  },
  {
   "cell_type": "code",
   "execution_count": 79,
   "metadata": {},
   "outputs": [],
   "source": [
    "recipes['ingredients'] = recipes['ingredients'].apply(lambda x: ' '.join(x))"
   ]
  },
  {
   "cell_type": "code",
   "execution_count": 33,
   "metadata": {},
   "outputs": [],
   "source": [
    "recipes['diets'] = recipes['categories'].apply(lambda x: new_label_array(x, diets))"
   ]
  },
  {
   "cell_type": "code",
   "execution_count": 35,
   "metadata": {},
   "outputs": [],
   "source": [
    "recipes.drop('categories', axis=1, inplace=True)"
   ]
  },
  {
   "cell_type": "code",
   "execution_count": 80,
   "metadata": {},
   "outputs": [
    {
     "data": {
      "text/html": [
       "<div>\n",
       "<style scoped>\n",
       "    .dataframe tbody tr th:only-of-type {\n",
       "        vertical-align: middle;\n",
       "    }\n",
       "\n",
       "    .dataframe tbody tr th {\n",
       "        vertical-align: top;\n",
       "    }\n",
       "\n",
       "    .dataframe thead th {\n",
       "        text-align: right;\n",
       "    }\n",
       "</style>\n",
       "<table border=\"1\" class=\"dataframe\">\n",
       "  <thead>\n",
       "    <tr style=\"text-align: right;\">\n",
       "      <th></th>\n",
       "      <th>title</th>\n",
       "      <th>desc</th>\n",
       "      <th>diets</th>\n",
       "      <th>ingredients</th>\n",
       "    </tr>\n",
       "  </thead>\n",
       "  <tbody>\n",
       "    <tr>\n",
       "      <th>3989</th>\n",
       "      <td>Salmon with Arugula, Tomato and Caper Sauce</td>\n",
       "      <td>Start with grilled country bread spread with o...</td>\n",
       "      <td>[]</td>\n",
       "      <td>fish tomato arugula</td>\n",
       "    </tr>\n",
       "    <tr>\n",
       "      <th>9981</th>\n",
       "      <td>Veal Chops with Tomato-Orange-Basil Sauce</td>\n",
       "      <td>The delicious sauce is also very nice with chi...</td>\n",
       "      <td>[]</td>\n",
       "      <td>veal</td>\n",
       "    </tr>\n",
       "    <tr>\n",
       "      <th>3405</th>\n",
       "      <td>Chocolate-Chunk Cookies with Pecans, Dried Apr...</td>\n",
       "      <td>This recipe can be prepared in 45 minutes or l...</td>\n",
       "      <td>[vegetarian, pescatarian, soy, kosher]</td>\n",
       "      <td>chocolate fruit nut fruit apricot cherry pecan...</td>\n",
       "    </tr>\n",
       "    <tr>\n",
       "      <th>18821</th>\n",
       "      <td>Chicken Tagine with Apricots and Spiced Pine N...</td>\n",
       "      <td>\"There is no typical tagine of Algeria—the cou...</td>\n",
       "      <td>[soy]</td>\n",
       "      <td>chicken fruit ginger orange apricot nut spice ...</td>\n",
       "    </tr>\n",
       "    <tr>\n",
       "      <th>5384</th>\n",
       "      <td>Soba with Pea Shoots, Shiitake Mushrooms, and ...</td>\n",
       "      <td>Can be prepared in 45 minutes or less.</td>\n",
       "      <td>[vegetarian, vegan, pescatarian, dairy, kosher]</td>\n",
       "      <td>mushroom vegetable leek noodle peanut nut</td>\n",
       "    </tr>\n",
       "  </tbody>\n",
       "</table>\n",
       "</div>"
      ],
      "text/plain": [
       "                                                   title  \\\n",
       "3989        Salmon with Arugula, Tomato and Caper Sauce    \n",
       "9981          Veal Chops with Tomato-Orange-Basil Sauce    \n",
       "3405   Chocolate-Chunk Cookies with Pecans, Dried Apr...   \n",
       "18821  Chicken Tagine with Apricots and Spiced Pine N...   \n",
       "5384   Soba with Pea Shoots, Shiitake Mushrooms, and ...   \n",
       "\n",
       "                                                    desc  \\\n",
       "3989   Start with grilled country bread spread with o...   \n",
       "9981   The delicious sauce is also very nice with chi...   \n",
       "3405   This recipe can be prepared in 45 minutes or l...   \n",
       "18821  \"There is no typical tagine of Algeria—the cou...   \n",
       "5384              Can be prepared in 45 minutes or less.   \n",
       "\n",
       "                                                 diets  \\\n",
       "3989                                                []   \n",
       "9981                                                []   \n",
       "3405            [vegetarian, pescatarian, soy, kosher]   \n",
       "18821                                            [soy]   \n",
       "5384   [vegetarian, vegan, pescatarian, dairy, kosher]   \n",
       "\n",
       "                                             ingredients  \n",
       "3989                                 fish tomato arugula  \n",
       "9981                                                veal  \n",
       "3405   chocolate fruit nut fruit apricot cherry pecan...  \n",
       "18821  chicken fruit ginger orange apricot nut spice ...  \n",
       "5384           mushroom vegetable leek noodle peanut nut  "
      ]
     },
     "execution_count": 80,
     "metadata": {},
     "output_type": "execute_result"
    }
   ],
   "source": [
    "recipes.sample(5)"
   ]
  },
  {
   "cell_type": "code",
   "execution_count": 42,
   "metadata": {},
   "outputs": [],
   "source": [
    "from sklearn.feature_extraction.text import HashingVectorizer\n",
    "from sklearn.preprocessing import MultiLabelBinarizer"
   ]
  },
  {
   "cell_type": "code",
   "execution_count": 53,
   "metadata": {},
   "outputs": [],
   "source": [
    "hv = HashingVectorizer(stop_words='english')"
   ]
  },
  {
   "cell_type": "code",
   "execution_count": 68,
   "metadata": {},
   "outputs": [],
   "source": [
    "X = hv.fit_transform(recipes['desc'])"
   ]
  },
  {
   "cell_type": "code",
   "execution_count": 44,
   "metadata": {},
   "outputs": [],
   "source": [
    "mlb = MultiLabelBinarizer()\n",
    "y = mlb.fit_transform(recipes['diets'])"
   ]
  },
  {
   "cell_type": "code",
   "execution_count": 74,
   "metadata": {},
   "outputs": [],
   "source": [
    "from sklearn.ensemble import RandomForestClassifier\n",
    "from sklearn.model_selection import KFold\n",
    "from sklearn.multiclass import OneVsRestClassifier\n",
    "from sklearn.svm import SVC"
   ]
  },
  {
   "cell_type": "code",
   "execution_count": 69,
   "metadata": {},
   "outputs": [],
   "source": [
    "kf = KFold(n_splits=5, random_state=42)"
   ]
  },
  {
   "cell_type": "code",
   "execution_count": 71,
   "metadata": {},
   "outputs": [],
   "source": [
    "for train_index, test_index in kf.split(X):\n",
    "    X_train, X_test = X[train_index], X[test_index]\n",
    "    y_train, y_test = y[train_index], y[test_index]"
   ]
  },
  {
   "cell_type": "code",
   "execution_count": 72,
   "metadata": {},
   "outputs": [
    {
     "data": {
      "text/plain": [
       "OneVsRestClassifier(estimator=SVC(C=1.0, cache_size=200, class_weight=None, coef0=0.0,\n",
       "  decision_function_shape='ovr', degree=3, gamma='auto', kernel='linear',\n",
       "  max_iter=-1, probability=False, random_state=None, shrinking=True,\n",
       "  tol=0.001, verbose=False),\n",
       "          n_jobs=1)"
      ]
     },
     "execution_count": 72,
     "metadata": {},
     "output_type": "execute_result"
    }
   ],
   "source": [
    "clf = OneVsRestClassifier(SVC(kernel='linear'))\n",
    "clf.fit(X_train, y_train)"
   ]
  },
  {
   "cell_type": "code",
   "execution_count": 73,
   "metadata": {},
   "outputs": [
    {
     "data": {
      "text/plain": [
       "0.46281433921883358"
      ]
     },
     "execution_count": 73,
     "metadata": {},
     "output_type": "execute_result"
    }
   ],
   "source": [
    "clf.score(X_test, y_test)"
   ]
  },
  {
   "cell_type": "markdown",
   "metadata": {},
   "source": [
    "In a multilabel multiclass situation like this, the scoring method is a harsh method because the sample much be correct prediction of the exact combination of each labels.  While 46% is not terrible, let's see what happens to the model's accuracy when we add in the title and ingredient vectors."
   ]
  },
  {
   "cell_type": "code",
   "execution_count": 81,
   "metadata": {},
   "outputs": [],
   "source": [
    "recipes['combined_corpus'] = recipes[['title', 'desc', 'ingredients']].apply(lambda x: ' '.join(x), axis=1)"
   ]
  },
  {
   "cell_type": "code",
   "execution_count": 83,
   "metadata": {},
   "outputs": [],
   "source": [
    "X = hv.fit_transform(recipes['combined_corpus'])"
   ]
  },
  {
   "cell_type": "code",
   "execution_count": 84,
   "metadata": {},
   "outputs": [],
   "source": [
    "for train_index, test_index in kf.split(X):\n",
    "    X_train, X_test = X[train_index], X[test_index]\n",
    "    y_train, y_test = y[train_index], y[test_index]"
   ]
  },
  {
   "cell_type": "code",
   "execution_count": 85,
   "metadata": {},
   "outputs": [
    {
     "data": {
      "text/plain": [
       "OneVsRestClassifier(estimator=SVC(C=1.0, cache_size=200, class_weight=None, coef0=0.0,\n",
       "  decision_function_shape='ovr', degree=3, gamma='auto', kernel='linear',\n",
       "  max_iter=-1, probability=False, random_state=None, shrinking=True,\n",
       "  tol=0.001, verbose=False),\n",
       "          n_jobs=1)"
      ]
     },
     "execution_count": 85,
     "metadata": {},
     "output_type": "execute_result"
    }
   ],
   "source": [
    "clf = OneVsRestClassifier(SVC(kernel='linear'))\n",
    "clf.fit(X_train, y_train)"
   ]
  },
  {
   "cell_type": "code",
   "execution_count": 86,
   "metadata": {},
   "outputs": [
    {
     "data": {
      "text/plain": [
       "0.55644729802033177"
      ]
     },
     "execution_count": 86,
     "metadata": {},
     "output_type": "execute_result"
    }
   ],
   "source": [
    "clf.score(X_test, y_test)"
   ]
  }
 ],
 "metadata": {
  "kernelspec": {
   "display_name": "Python 3",
   "language": "python",
   "name": "python3"
  },
  "language_info": {
   "codemirror_mode": {
    "name": "ipython",
    "version": 3
   },
   "file_extension": ".py",
   "mimetype": "text/x-python",
   "name": "python",
   "nbconvert_exporter": "python",
   "pygments_lexer": "ipython3",
   "version": "3.6.4"
  }
 },
 "nbformat": 4,
 "nbformat_minor": 2
}
